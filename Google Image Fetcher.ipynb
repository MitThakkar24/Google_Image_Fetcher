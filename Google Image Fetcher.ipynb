{
 "cells": [
  {
   "cell_type": "code",
   "execution_count": 1,
   "id": "1d239fa6",
   "metadata": {},
   "outputs": [],
   "source": [
    "import requests\n",
    "from bs4 import BeautifulSoup\n",
    "from urllib.request import urlopen as uReq\n",
    "import os"
   ]
  },
  {
   "cell_type": "code",
   "execution_count": 2,
   "id": "16da459c",
   "metadata": {},
   "outputs": [],
   "source": [
    "save_dir = 'images/'\n",
    "\n",
    "if not os.path.exists(save_dir):\n",
    "    os.makedirs(save_dir)"
   ]
  },
  {
   "cell_type": "code",
   "execution_count": 9,
   "id": "f5a765da",
   "metadata": {},
   "outputs": [],
   "source": [
    "query = 'TMR Github'\n",
    "response = requests.get(f\"https://www.google.com/search?q={query}&sca_esv=579577228&tbm=isch&sxsrf=AM9HkKnS3dXKP4105kw62OpHNbkuOJSp2w%3A1699176265378&source=hp&biw=1920&bih=931&ei=SV9HZYWPEvL21e8Pi8up8Ao&iflsig=AO6bgOgAAAAAZUdtWYj4-AEUf6rEbyTb_XWT-0ZtHluO&ved=0ahUKEwjF19DtxKyCAxVye_UHHYtlCq4Q4dUDCAc&uact=5&oq=mit+thakkar&gs_lp=EgNpbWciC21pdCB0aGFra2FyMgQQIxgnSIwiUJYFWL0hcAJ4AJABAJgBfqABiwqqAQQwLjExuAEDyAEA-AEBigILZ3dzLXdpei1pbWeoAgrCAgcQIxjqAhgnwgILEAAYgAQYsQMYgwHCAggQABiABBixA8ICBRAAGIAEwgIIEAAYsQMYgwHCAgYQABgFGB7CAgYQABgIGB7CAgcQABgYGIAE&sclient=img\")\n"
   ]
  },
  {
   "cell_type": "code",
   "execution_count": 10,
   "id": "c9846260",
   "metadata": {},
   "outputs": [
    {
     "data": {
      "text/plain": [
       "<Response [200]>"
      ]
     },
     "execution_count": 10,
     "metadata": {},
     "output_type": "execute_result"
    }
   ],
   "source": [
    "response"
   ]
  },
  {
   "cell_type": "code",
   "execution_count": 11,
   "id": "8a7a0171",
   "metadata": {},
   "outputs": [],
   "source": [
    "soup = BeautifulSoup(response.content,'html.parser')"
   ]
  },
  {
   "cell_type": "code",
   "execution_count": 15,
   "id": "5c114313",
   "metadata": {},
   "outputs": [
    {
     "data": {
      "text/plain": [
       "<!DOCTYPE html PUBLIC \"-//WAPFORUM//DTD XHTML Mobile 1.0//EN\" \"http://www.wapforum.org/DTD/xhtml-mobile10.dtd\">\n",
       "<html lang=\"en-IN\" xmlns=\"http://www.w3.org/1999/xhtml\"><head><meta content=\"application/xhtml+xml; charset=utf-8\" http-equiv=\"Content-Type\"/><meta content=\"no-cache\" name=\"Cache-Control\"/><title>TMR Github - Google Search</title><style>a{text-decoration:none;color:inherit}a:hover{text-decoration:underline}a img{border:0}body{font-family:arial,sans-serif;padding:8px;margin:0 auto;max-width:700px;min-width:240px;}.FbhRzb{border-left:thin solid #dadce0;border-right:thin solid #dadce0;border-top:thin solid #dadce0;height:40px;overflow:hidden}.n692Zd{margin-bottom:10px}.cvifge{height:40px;border-spacing:0}.QvGUP{height:40px;padding:0 8px 0 8px;vertical-align:top}.O4cRJf{height:40px;width:100%;padding:0;padding-right:16px}.O1ePr{height:40px;padding:0;vertical-align:top}.kgJEQe{height:36px;width:98px;vertical-align:top;margin-top:4px}.lXLRf{vertical-align:top}.MhzMZd{border:0;vertical-align:middle;font-size:14px;height:40px;padding:0;width:100%;padding-left:16px}.xB0fq{height:40px;border:none;font-size:14px;background-color:#1a73e8;color:#fff;padding:0 16px;margin:0;vertical-align:top;cursor:pointer}.xB0fq:focus{border:1px solid #1a73e8}.M7pB2{border:thin solid #dadce0;margin:0 0 3px 0;font-size:13px;font-weight:500;height:40px}.euZec{width:100%;height:40px;text-align:center;border-spacing:0}table.euZec td{padding:0;width:25%}.QIqI7{display:inline-block;padding-top:4px;font-weight:bold;color:#4285f4}.EY24We{border-bottom:2px solid #4285f4}.CsQyDc{display:inline-block;color:#70757a}.TuS8Ad{font-size:14px}.HddGcc{padding:8px;color:#70757a}.dzp8ae{font-weight:bold;color:#3c4043}.rEM8G{color:#70757a}.bookcf{table-layout:fixed;width:100%;border-spacing:0}.InWNIe{text-align:center}.uZgmoc{border:thin solid #dadce0;color:#70757a;font-size:14px;text-align:center;table-layout:fixed;width:100%}.frGj1b{display:block;padding:12px 0 12px 0;width:100%}.BnJWBc{text-align:center;padding:6px 0 13px 0;height:35px}.e3goi{vertical-align:top;padding:0;height:180px}.GpQGbf{margin:auto;border-collapse:collapse;border-spacing:0;width:100%}</style></head><body><style>.X6ZCif{color:#202124;font-size:11px;line-height:16px;display:inline-block;padding-top:2px;overflow:hidden;padding-bottom:4px;width:100%}.TwVfHd{border-radius:16px;border:thin solid #dadce0;display:inline-block;padding:8px 8px;margin-right:8px;margin-bottom:4px}.yekiAe{background-color:#dadce0}.jjVJ4e{width:100%}.ezO2md{border:thin solid #dadce0;padding:12px 16px 12px 16px;margin-bottom:10px;font-family:arial,sans-serif}.lIMUZd{font-family:arial,sans-serif}.RntSmf{border-spacing:0}.lgD2Tc{width:100%}.SpelHe{text-align:center}.SpelHe{position:relative}.deHqpb{bottom:0;left:0;margin:auto;position:absolute;right:0;top:0}.kCmkOe{position:relative}.ID6Z3b{background-image:url(https://www.gstatic.com/search_trustx/visibility_off_icon_p0-7d897bf44bafe5436baa9009e8716337.png);background-repeat:no-repeat;background-position:center;background-size:20px}.kCmkOe{width:162px;height:140px;line-height:140px;overflow:'hidden';text-align:center}.DS1iW{text-align:center;margin:auto;vertical-align:middle;max-width:162px;max-height:140px}.AlD19d{padding-top:2px;padding-bottom:8px;}.fYyStc{word-break:break-word}.ynsChf{display:block;white-space:nowrap;overflow:hidden;text-overflow:ellipsis}.Fj3V3b{color:#1967d2;font-size:14px;line-height:20px}.FrIlee{color:#202124;font-size:11px;line-height:16px}.F9iS2e{color:#70757a;font-size:11px;line-height:16px}.WMQ2Le{color:#70757a;font-size:12px;line-height:16px}.x3G5ab{color:#202124;font-size:12px;line-height:16px}.fuLhoc{color:#1967d2;font-size:16px;line-height:20px}.epoveb{font-size:24px;line-height:28px;font-weight:400;color:#202124}.dXDvrc{color:#0d652d;font-size:14px;line-height:20px;word-wrap:break-word}.dloBPe{font-weight:bold}.YVIcad{color:#70757a}.JkVVdd{color:#ea4335}.oXZRFd{color:#ea4335}.MQHtg{color:#fbbc04}.pyMRrb{color:#1e8e3e}.EtTZid{color:#1e8e3e}.M3vVJe{color:#1967d2}.qXLe6d{display:block}.NHQNef{font-style:italic}.Cb8Z7c{white-space:pre}a.ZWRArf{text-decoration:none}a .CVA68e:hover{text-decoration:underline}</style><div class=\"n692Zd\"><div class=\"BnJWBc\"><a class=\"lXLRf\" href=\"/?sca_esv=579577228&amp;biw=1920&amp;bih=931&amp;output=images&amp;ie=UTF-8&amp;tbm=isch&amp;sa=X&amp;ved=0ahUKEwjC-tfZrIqDAxVnTmwGHVPXARgQPAgC\"><img alt=\"Google\" class=\"kgJEQe\" src=\"/images/branding/searchlogo/1x/googlelogo_desk_heirloom_color_150x55dp.gif\"/></a></div><div class=\"FbhRzb\"><form action=\"/search\"><input name=\"sca_esv\" type=\"hidden\" value=\"579577228\"/><input name=\"biw\" type=\"hidden\" value=\"1920\"/><input name=\"bih\" type=\"hidden\" value=\"931\"/><input name=\"ie\" type=\"hidden\" value=\"ISO-8859-1\"/><input name=\"tbm\" type=\"hidden\" value=\"isch\"/><input name=\"oq\" type=\"hidden\"/><input name=\"aqs\" type=\"hidden\"/><table class=\"cvifge\"><tr><td class=\"O4cRJf\"><input class=\"MhzMZd\" name=\"q\" type=\"text\" value=\"TMR Github\"/></td><td class=\"O1ePr\"><input class=\"xB0fq\" type=\"submit\" value=\"Search\"/></td></tr></table></form></div><div class=\"M7pB2\"><table class=\"euZec\"><tbody><tr><td><a class=\"CsQyDc\" href=\"/search?q=TMR+Github&amp;sca_esv=579577228&amp;biw=1920&amp;bih=931&amp;ie=UTF-8&amp;source=lnms&amp;sa=X&amp;ved=0ahUKEwjC-tfZrIqDAxVnTmwGHVPXARgQ_AUIBCgA\">ALL</a></td><td class=\"EY24We\"><span class=\"QIqI7\">IMAGES</span></td><td><a class=\"CsQyDc\" href=\"/search?q=TMR+Github&amp;sca_esv=579577228&amp;biw=1920&amp;bih=931&amp;ie=UTF-8&amp;tbm=vid&amp;source=lnms&amp;sa=X&amp;ved=0ahUKEwjC-tfZrIqDAxVnTmwGHVPXARgQ_AUIBigC\">VIDEOS</a></td><td><a class=\"CsQyDc\" href=\"/search?q=TMR+Github&amp;sca_esv=579577228&amp;biw=1920&amp;bih=931&amp;ie=UTF-8&amp;tbm=nws&amp;source=lnms&amp;sa=X&amp;ved=0ahUKEwjC-tfZrIqDAxVnTmwGHVPXARgQ_AUIBygD\">NEWS</a></td></tr></tbody></table></div></div><div class=\"X6ZCif\"><a class=\"TwVfHd\" href=\"/search?sca_esv=579577228&amp;biw=1920&amp;bih=931&amp;ie=UTF-8&amp;tbm=isch&amp;q=TMR+Github&amp;chips=q:tmr+github,online_chips:iccv+2023&amp;sa=X&amp;ved=0ahUKEwjC-tfZrIqDAxVnTmwGHVPXARgQ4lYICygA\">iccv 2023</a><a class=\"TwVfHd\" href=\"/search?sca_esv=579577228&amp;biw=1920&amp;bih=931&amp;ie=UTF-8&amp;tbm=isch&amp;q=TMR+Github&amp;chips=q:tmr+github,online_chips:termux&amp;sa=X&amp;ved=0ahUKEwjC-tfZrIqDAxVnTmwGHVPXARgQ4lYIDCgB\">termux</a><a class=\"TwVfHd\" href=\"/search?sca_esv=579577228&amp;biw=1920&amp;bih=931&amp;ie=UTF-8&amp;tbm=isch&amp;q=TMR+Github&amp;chips=q:tmr+github,online_chips:repo&amp;sa=X&amp;ved=0ahUKEwjC-tfZrIqDAxVnTmwGHVPXARgQ4lYIDSgC\">repo</a><a class=\"TwVfHd\" href=\"/search?sca_esv=579577228&amp;biw=1920&amp;bih=931&amp;ie=UTF-8&amp;tbm=isch&amp;q=TMR+Github&amp;chips=q:tmr+github,online_chips:pull+requests&amp;sa=X&amp;ved=0ahUKEwjC-tfZrIqDAxVnTmwGHVPXARgQ4lYIDigD\">pull requests</a><a class=\"TwVfHd\" href=\"/search?sca_esv=579577228&amp;biw=1920&amp;bih=931&amp;ie=UTF-8&amp;tbm=isch&amp;q=TMR+Github&amp;chips=q:tmr+github,online_chips:github+repo&amp;sa=X&amp;ved=0ahUKEwjC-tfZrIqDAxVnTmwGHVPXARgQ4lYIDygE\">github repo</a><a class=\"TwVfHd\" href=\"/search?sca_esv=579577228&amp;biw=1920&amp;bih=931&amp;ie=UTF-8&amp;tbm=isch&amp;q=TMR+Github&amp;chips=q:tmr+github,online_chips:flight+controller&amp;sa=X&amp;ved=0ahUKEwjC-tfZrIqDAxVnTmwGHVPXARgQ4lYIECgF\">flight controller</a><a class=\"TwVfHd\" href=\"/search?sca_esv=579577228&amp;biw=1920&amp;bih=931&amp;ie=UTF-8&amp;tbm=isch&amp;q=TMR+Github&amp;chips=q:tmr+github,online_chips:modular+redundancy&amp;sa=X&amp;ved=0ahUKEwjC-tfZrIqDAxVnTmwGHVPXARgQ4lYIESgG\">modular redundancy</a><a class=\"TwVfHd\" href=\"/search?sca_esv=579577228&amp;biw=1920&amp;bih=931&amp;ie=UTF-8&amp;tbm=isch&amp;q=TMR+Github&amp;chips=q:tmr+github,online_chips:triple+modular&amp;sa=X&amp;ved=0ahUKEwjC-tfZrIqDAxVnTmwGHVPXARgQ4lYIEigH\">triple modular</a><a class=\"TwVfHd\" href=\"/search?sca_esv=579577228&amp;biw=1920&amp;bih=931&amp;ie=UTF-8&amp;tbm=isch&amp;q=TMR+Github&amp;chips=q:tmr+github,online_chips:raspberry+pi&amp;sa=X&amp;ved=0ahUKEwjC-tfZrIqDAxVnTmwGHVPXARgQ4lYIEygI\">raspberry pi</a><a class=\"TwVfHd\" href=\"/search?sca_esv=579577228&amp;biw=1920&amp;bih=931&amp;ie=UTF-8&amp;tbm=isch&amp;q=TMR+Github&amp;chips=q:tmr+github,online_chips:github+com&amp;sa=X&amp;ved=0ahUKEwjC-tfZrIqDAxVnTmwGHVPXARgQ4lYIFCgJ\">github com</a></div><div><table class=\"GpQGbf\"><tr><td align=\"center\" class=\"e3goi\"><div class=\"jjVJ4e\"> <div> <div class=\"lIMUZd\"><div><table class=\"RntSmf\"><tr><td><a href=\"/url?q=https://github.com/smdogroup/tmr&amp;sa=U&amp;ved=2ahUKEwjC-tfZrIqDAxVnTmwGHVPXARgQqoUBegQIABAB&amp;usg=AOvVaw2MC5uWKKhlwDV3h2wLDI22\"><div class=\"kCmkOe\"><img alt=\"\" class=\"DS1iW\" src=\"https://encrypted-tbn0.gstatic.com/images?q=tbn:ANd9GcQblvtcMK9yNyY3W5yUuyG233uhmUnHHojhvau9KPV8gbuoBMQFo4SZWz6Vtg&amp;s\"/></div></a></td></tr><tr><td><a href=\"/url?q=https://github.com/smdogroup/tmr&amp;sa=U&amp;ved=2ahUKEwjC-tfZrIqDAxVnTmwGHVPXARgQr4kDegQIABAC&amp;usg=AOvVaw2oF--pwfY3ETD6hxz9Q6r5\"><div class=\"AlD19d\"> <span class=\"qXLe6d x3G5ab\"> <span class=\"fYyStc\">GitHub - smdogroup/tmr:...</span> </span> <span class=\"qXLe6d F9iS2e\"> <span class=\"fYyStc\">github.com</span> </span> </div></a></td></tr></table></div></div> </div> </div></td><td align=\"center\" class=\"e3goi\"><div class=\"jjVJ4e\"> <div> <div class=\"lIMUZd\"><div><table class=\"RntSmf\"><tr><td><a href=\"/url?q=https://github.com/byuccl/spydrnet-tmr&amp;sa=U&amp;ved=2ahUKEwjC-tfZrIqDAxVnTmwGHVPXARgQqoUBegQIExAB&amp;usg=AOvVaw2BD81MCoHyd63lrTlqVid_\"><div class=\"kCmkOe\"><img alt=\"\" class=\"DS1iW\" src=\"https://encrypted-tbn0.gstatic.com/images?q=tbn:ANd9GcQjdBaOR006xFAD41KaLrhn8M2aNQWIe2yTZqFVazyYVvN0Me6Sglu4zqO7Dg&amp;s\"/></div></a></td></tr><tr><td><a href=\"/url?q=https://github.com/byuccl/spydrnet-tmr&amp;sa=U&amp;ved=2ahUKEwjC-tfZrIqDAxVnTmwGHVPXARgQr4kDegQIExAC&amp;usg=AOvVaw1zslpmmqNFp5FalaAoQ-Xt\"><div class=\"AlD19d\"> <span class=\"qXLe6d x3G5ab\"> <span class=\"fYyStc\">GitHub -...</span> </span> <span class=\"qXLe6d F9iS2e\"> <span class=\"fYyStc\">github.com</span> </span> </div></a></td></tr></table></div></div> </div> </div></td><td align=\"center\" class=\"e3goi\"><div class=\"jjVJ4e\"> <div> <div class=\"lIMUZd\"><div><table class=\"RntSmf\"><tr><td><a href=\"/url?q=https://github.com/Tmr&amp;sa=U&amp;ved=2ahUKEwjC-tfZrIqDAxVnTmwGHVPXARgQqoUBegQIEhAB&amp;usg=AOvVaw0kmQLB_wxJBsZm4GSOTtKB\"><div class=\"kCmkOe\"><img alt=\"\" class=\"DS1iW\" src=\"https://encrypted-tbn0.gstatic.com/images?q=tbn:ANd9GcTT5X3CRtBrpEmEXeTRE7vx6hZ8RvksPqFTVD-pOr7x3_Q9Q_8c9NxsLkKqFbg&amp;s\"/></div></a></td></tr><tr><td><a href=\"/url?q=https://github.com/Tmr&amp;sa=U&amp;ved=2ahUKEwjC-tfZrIqDAxVnTmwGHVPXARgQr4kDegQIEhAC&amp;usg=AOvVaw09szCO2HsxUCg5EqZwEQ8-\"><div class=\"AlD19d\"> <span class=\"qXLe6d x3G5ab\"> <span class=\"fYyStc\">Tmr · GitHub</span> </span> <span class=\"qXLe6d F9iS2e\"> <span class=\"fYyStc\">github.com</span> </span> </div></a></td></tr></table></div></div> </div> </div></td><td align=\"center\" class=\"e3goi\"><div class=\"jjVJ4e\"> <div> <div class=\"lIMUZd\"><div><table class=\"RntSmf\"><tr><td><a href=\"/url?q=https://github.com/cctsao1008/TMR&amp;sa=U&amp;ved=2ahUKEwjC-tfZrIqDAxVnTmwGHVPXARgQqoUBegQICRAB&amp;usg=AOvVaw0Sp83ZNaMpnSuIXG2THWoy\"><div class=\"kCmkOe\"><img alt=\"\" class=\"DS1iW\" src=\"https://encrypted-tbn0.gstatic.com/images?q=tbn:ANd9GcTbqNw36xUg1wMPzNdtBYZ_V__GtNMqrht8FrTiiDc_yph4MftlWoe1Qo7cMQ&amp;s\"/></div></a></td></tr><tr><td><a href=\"/url?q=https://github.com/cctsao1008/TMR&amp;sa=U&amp;ved=2ahUKEwjC-tfZrIqDAxVnTmwGHVPXARgQr4kDegQICRAC&amp;usg=AOvVaw0MVz3Wkt4rDGJ25o15mzBT\"><div class=\"AlD19d\"> <span class=\"qXLe6d x3G5ab\"> <span class=\"fYyStc\">GitHub - cctsao1008/TMR:...</span> </span> <span class=\"qXLe6d F9iS2e\"> <span class=\"fYyStc\">github.com</span> </span> </div></a></td></tr></table></div></div> </div> </div></td></tr><tr><td align=\"center\" class=\"e3goi\"><div class=\"jjVJ4e\"> <div> <div class=\"lIMUZd\"><div><table class=\"RntSmf\"><tr><td><a href=\"/url?q=https://github.com/ThalesGroup/TMR/blob/master/.gitmodules&amp;sa=U&amp;ved=2ahUKEwjC-tfZrIqDAxVnTmwGHVPXARgQqoUBegQIChAB&amp;usg=AOvVaw0HTcN2RAKlaEllwU2MIMTH\"><div class=\"kCmkOe\"><img alt=\"\" class=\"DS1iW\" src=\"https://encrypted-tbn0.gstatic.com/images?q=tbn:ANd9GcS_A1QUoPtiAmtx5UgA-mGXmuO1rauCtKirXJOrn0lhDmDMiuaFi_YAmgtjrA&amp;s\"/></div></a></td></tr><tr><td><a href=\"/url?q=https://github.com/ThalesGroup/TMR/blob/master/.gitmodules&amp;sa=U&amp;ved=2ahUKEwjC-tfZrIqDAxVnTmwGHVPXARgQr4kDegQIChAC&amp;usg=AOvVaw0SnnB7fYKwAGG4Ln2rqwhN\"><div class=\"AlD19d\"> <span class=\"qXLe6d x3G5ab\"> <span class=\"fYyStc\">TMR/.gitmodules at master ·...</span> </span> <span class=\"qXLe6d F9iS2e\"> <span class=\"fYyStc\">github.com</span> </span> </div></a></td></tr></table></div></div> </div> </div></td><td align=\"center\" class=\"e3goi\"><div class=\"jjVJ4e\"> <div> <div class=\"lIMUZd\"><div><table class=\"RntSmf\"><tr><td><a href=\"/url?q=https://github.com/PaloAltoNetworks/tmr&amp;sa=U&amp;ved=2ahUKEwjC-tfZrIqDAxVnTmwGHVPXARgQqoUBegQIERAB&amp;usg=AOvVaw3Nb5S9CtlAp1-ba5PRvAly\"><div class=\"kCmkOe\"><img alt=\"\" class=\"DS1iW\" src=\"https://encrypted-tbn0.gstatic.com/images?q=tbn:ANd9GcQrspLrkcVFYgA2aNTmJ1EP56BC3vdlZjH5URJpi-_LolZo_wD0H4vNNkQRqD8&amp;s\"/></div></a></td></tr><tr><td><a href=\"/url?q=https://github.com/PaloAltoNetworks/tmr&amp;sa=U&amp;ved=2ahUKEwjC-tfZrIqDAxVnTmwGHVPXARgQr4kDegQIERAC&amp;usg=AOvVaw0OiRRm7D4Sej37zA9NpFEQ\"><div class=\"AlD19d\"> <span class=\"qXLe6d x3G5ab\"> <span class=\"fYyStc\">GitHub -...</span> </span> <span class=\"qXLe6d F9iS2e\"> <span class=\"fYyStc\">github.com</span> </span> </div></a></td></tr></table></div></div> </div> </div></td><td align=\"center\" class=\"e3goi\"><div class=\"jjVJ4e\"> <div> <div class=\"lIMUZd\"><div><table class=\"RntSmf\"><tr><td><a href=\"/url?q=https://github.com/tmrwithu/tmrwithu-popdow.github.io&amp;sa=U&amp;ved=2ahUKEwjC-tfZrIqDAxVnTmwGHVPXARgQqoUBegQIEBAB&amp;usg=AOvVaw0M6mEVMRIvog9MjUZd5ZzZ\"><div class=\"kCmkOe\"><img alt=\"\" class=\"DS1iW\" src=\"https://encrypted-tbn0.gstatic.com/images?q=tbn:ANd9GcTFVOJMDaI2AEp8UqfoRFSry2BYP5EBMG0sQir34yByohI6KMonSWpBy8mM2A&amp;s\"/></div></a></td></tr><tr><td><a href=\"/url?q=https://github.com/tmrwithu/tmrwithu-popdow.github.io&amp;sa=U&amp;ved=2ahUKEwjC-tfZrIqDAxVnTmwGHVPXARgQr4kDegQIEBAC&amp;usg=AOvVaw0-2jbnKDvRTFhWJA4lK7wF\"><div class=\"AlD19d\"> <span class=\"qXLe6d x3G5ab\"> <span class=\"fYyStc\">GitHub -...</span> </span> <span class=\"qXLe6d F9iS2e\"> <span class=\"fYyStc\">github.com</span> </span> </div></a></td></tr></table></div></div> </div> </div></td><td align=\"center\" class=\"e3goi\"><div class=\"jjVJ4e\"> <div> <div class=\"lIMUZd\"><div><table class=\"RntSmf\"><tr><td><a href=\"/url?q=https://github.com/thecharm/TMR/actions&amp;sa=U&amp;ved=2ahUKEwjC-tfZrIqDAxVnTmwGHVPXARgQqoUBegQIDBAB&amp;usg=AOvVaw2Ufhyr1kIpav29Khu73gEI\"><div class=\"kCmkOe\"><img alt=\"\" class=\"DS1iW\" src=\"https://encrypted-tbn0.gstatic.com/images?q=tbn:ANd9GcTUxkDA0bsJU04pKZH-DohI5cbLhKBcWOKzZiQ9FkJBPP9x0iya1N_1wS1Zrg&amp;s\"/></div></a></td></tr><tr><td><a href=\"/url?q=https://github.com/thecharm/TMR/actions&amp;sa=U&amp;ved=2ahUKEwjC-tfZrIqDAxVnTmwGHVPXARgQr4kDegQIDBAC&amp;usg=AOvVaw310f9RCLUlVeH7EwCgdKRE\"><div class=\"AlD19d\"> <span class=\"qXLe6d x3G5ab\"> <span class=\"fYyStc\">Actions · thecharm/TMR ·...</span> </span> <span class=\"qXLe6d F9iS2e\"> <span class=\"fYyStc\">github.com</span> </span> </div></a></td></tr></table></div></div> </div> </div></td></tr><tr><td align=\"center\" class=\"e3goi\"><div class=\"jjVJ4e\"> <div> <div class=\"lIMUZd\"><div><table class=\"RntSmf\"><tr><td><a href=\"/url?q=https://smdogroup.github.io/tmr/&amp;sa=U&amp;ved=2ahUKEwjC-tfZrIqDAxVnTmwGHVPXARgQqoUBegQIDxAB&amp;usg=AOvVaw24IinNOazuA70uYNXpuxX_\"><div class=\"kCmkOe\"><img alt=\"\" class=\"DS1iW\" src=\"https://encrypted-tbn0.gstatic.com/images?q=tbn:ANd9GcRcyvkCnMN9R7WU_zW9o65RVCSrCrCmQuHEg4SKTnaZFjWjl8BC6_GLGlRbQP4&amp;s\"/></div></a></td></tr><tr><td><a href=\"/url?q=https://smdogroup.github.io/tmr/&amp;sa=U&amp;ved=2ahUKEwjC-tfZrIqDAxVnTmwGHVPXARgQr4kDegQIDxAC&amp;usg=AOvVaw3f8ZirrD2LWKDWkmZper-0\"><div class=\"AlD19d\"> <span class=\"qXLe6d x3G5ab\"> <span class=\"fYyStc\">TMR Overview — TMR 1...</span> </span> <span class=\"qXLe6d F9iS2e\"> <span class=\"fYyStc\">smdogroup.github.io</span> </span> </div></a></td></tr></table></div></div> </div> </div></td><td align=\"center\" class=\"e3goi\"><div class=\"jjVJ4e\"> <div> <div class=\"lIMUZd\"><div><table class=\"RntSmf\"><tr><td><a href=\"/url?q=https://smdogroup.github.io/tmr/&amp;sa=U&amp;ved=2ahUKEwjC-tfZrIqDAxVnTmwGHVPXARgQqoUBegQIDRAB&amp;usg=AOvVaw3MmLrGo5u4YOBNH9xDxG6e\"><div class=\"kCmkOe\"><img alt=\"\" class=\"DS1iW\" src=\"https://encrypted-tbn0.gstatic.com/images?q=tbn:ANd9GcQ-f-Dx0nI_jbtJVj-bcJBkrnIfHH9LmxQqIYkxvahQ48LuZxfGBHOC13ekjDg&amp;s\"/></div></a></td></tr><tr><td><a href=\"/url?q=https://smdogroup.github.io/tmr/&amp;sa=U&amp;ved=2ahUKEwjC-tfZrIqDAxVnTmwGHVPXARgQr4kDegQIDRAC&amp;usg=AOvVaw0oFZGS7vUeqoNLXHZLAYGv\"><div class=\"AlD19d\"> <span class=\"qXLe6d x3G5ab\"> <span class=\"fYyStc\">TMR Overview — TMR 1...</span> </span> <span class=\"qXLe6d F9iS2e\"> <span class=\"fYyStc\">smdogroup.github.io</span> </span> </div></a></td></tr></table></div></div> </div> </div></td><td align=\"center\" class=\"e3goi\"><div class=\"jjVJ4e\"> <div> <div class=\"lIMUZd\"><div><table class=\"RntSmf\"><tr><td><a href=\"/url?q=https://github.com/cctsao1008/TMR&amp;sa=U&amp;ved=2ahUKEwjC-tfZrIqDAxVnTmwGHVPXARgQqoUBegQIDhAB&amp;usg=AOvVaw0TsOXHLs9wweM_1-KKkwib\"><div class=\"kCmkOe\"><img alt=\"\" class=\"DS1iW\" src=\"https://encrypted-tbn0.gstatic.com/images?q=tbn:ANd9GcQyOWy1wL-QtgX17cGCEmngqL0D-2I4OjTVdkgqPk5bHclt5UcV5wl6OvUQ7A&amp;s\"/></div></a></td></tr><tr><td><a href=\"/url?q=https://github.com/cctsao1008/TMR&amp;sa=U&amp;ved=2ahUKEwjC-tfZrIqDAxVnTmwGHVPXARgQr4kDegQIDhAC&amp;usg=AOvVaw2eDYHzFcLJsNb8QHikbp2R\"><div class=\"AlD19d\"> <span class=\"qXLe6d x3G5ab\"> <span class=\"fYyStc\">GitHub - cctsao1008/TMR:...</span> </span> <span class=\"qXLe6d F9iS2e\"> <span class=\"fYyStc\">github.com</span> </span> </div></a></td></tr></table></div></div> </div> </div></td><td align=\"center\" class=\"e3goi\"><div class=\"jjVJ4e\"> <div> <div class=\"lIMUZd\"><div><table class=\"RntSmf\"><tr><td><a href=\"/url?q=https://github.com/AMSP-04/NETN-TMR&amp;sa=U&amp;ved=2ahUKEwjC-tfZrIqDAxVnTmwGHVPXARgQqoUBegQICxAB&amp;usg=AOvVaw0GzRARlaoKcRbdnGLBv4QO\"><div class=\"kCmkOe\"><img alt=\"\" class=\"DS1iW\" src=\"https://encrypted-tbn0.gstatic.com/images?q=tbn:ANd9GcSmt0s3YbFMLjFX93Apk8M_r2bQdfugQyXIvKKm-tIpIMu5o6Gdu8ZQL0FLgq4&amp;s\"/></div></a></td></tr><tr><td><a href=\"/url?q=https://github.com/AMSP-04/NETN-TMR&amp;sa=U&amp;ved=2ahUKEwjC-tfZrIqDAxVnTmwGHVPXARgQr4kDegQICxAC&amp;usg=AOvVaw1-eZsqP_o3Rv6ED4_UZNjM\"><div class=\"AlD19d\"> <span class=\"qXLe6d x3G5ab\"> <span class=\"fYyStc\">GitHub - AMSP-04/NETN-TMR:...</span> </span> <span class=\"qXLe6d F9iS2e\"> <span class=\"fYyStc\">github.com</span> </span> </div></a></td></tr></table></div></div> </div> </div></td></tr><tr><td align=\"center\" class=\"e3goi\"><div class=\"jjVJ4e\"> <div> <div class=\"lIMUZd\"><div><table class=\"RntSmf\"><tr><td><a href=\"/url?q=https://github.com/cctsao1008/TMR&amp;sa=U&amp;ved=2ahUKEwjC-tfZrIqDAxVnTmwGHVPXARgQqoUBegQICBAB&amp;usg=AOvVaw3jKDAikLv3rC3uVl1ZIxje\"><div class=\"kCmkOe\"><img alt=\"\" class=\"DS1iW\" src=\"https://encrypted-tbn0.gstatic.com/images?q=tbn:ANd9GcScWpTQlmnHpOnzOQzdHBtrck7TnBvXjhddkwjdl_fFK8Hz9-bBDsQSdkoxLMY&amp;s\"/></div></a></td></tr><tr><td><a href=\"/url?q=https://github.com/cctsao1008/TMR&amp;sa=U&amp;ved=2ahUKEwjC-tfZrIqDAxVnTmwGHVPXARgQr4kDegQICBAC&amp;usg=AOvVaw0KuvhYn2CaysMlwIERxQIm\"><div class=\"AlD19d\"> <span class=\"qXLe6d x3G5ab\"> <span class=\"fYyStc\">GitHub - cctsao1008/TMR:...</span> </span> <span class=\"qXLe6d F9iS2e\"> <span class=\"fYyStc\">github.com</span> </span> </div></a></td></tr></table></div></div> </div> </div></td><td align=\"center\" class=\"e3goi\"><div class=\"jjVJ4e\"> <div> <div class=\"lIMUZd\"><div><table class=\"RntSmf\"><tr><td><a href=\"/url?q=https://github.com/cctsao1008/TMR&amp;sa=U&amp;ved=2ahUKEwjC-tfZrIqDAxVnTmwGHVPXARgQqoUBegQIBxAB&amp;usg=AOvVaw3CsyRvZXjQnTCJnFSrf8zG\"><div class=\"kCmkOe\"><img alt=\"\" class=\"DS1iW\" src=\"https://encrypted-tbn0.gstatic.com/images?q=tbn:ANd9GcRxcFGysKzZjQwy4Gk8_Q23VYzg7zIVxeYURpMX6eVmbEi9-72552bCCbApDw&amp;s\"/></div></a></td></tr><tr><td><a href=\"/url?q=https://github.com/cctsao1008/TMR&amp;sa=U&amp;ved=2ahUKEwjC-tfZrIqDAxVnTmwGHVPXARgQr4kDegQIBxAC&amp;usg=AOvVaw2lenRHGoctngZGM1QfspqZ\"><div class=\"AlD19d\"> <span class=\"qXLe6d x3G5ab\"> <span class=\"fYyStc\">GitHub - cctsao1008/TMR:...</span> </span> <span class=\"qXLe6d F9iS2e\"> <span class=\"fYyStc\">github.com</span> </span> </div></a></td></tr></table></div></div> </div> </div></td><td align=\"center\" class=\"e3goi\"><div class=\"jjVJ4e\"> <div> <div class=\"lIMUZd\"><div><table class=\"RntSmf\"><tr><td><a href=\"/url?q=https://github.com/theone74/tmr&amp;sa=U&amp;ved=2ahUKEwjC-tfZrIqDAxVnTmwGHVPXARgQqoUBegQIAxAB&amp;usg=AOvVaw1n1FtiJBd5FnltTQ0eZ3mU\"><div class=\"kCmkOe\"><img alt=\"\" class=\"DS1iW\" src=\"https://encrypted-tbn0.gstatic.com/images?q=tbn:ANd9GcThiVI3UFSUhXTSyCAdBFo28f09k-HSIBvnHlxdyJLOZ3imxMPsd00HpNVdOME&amp;s\"/></div></a></td></tr><tr><td><a href=\"/url?q=https://github.com/theone74/tmr&amp;sa=U&amp;ved=2ahUKEwjC-tfZrIqDAxVnTmwGHVPXARgQr4kDegQIAxAC&amp;usg=AOvVaw1uqBMswZxjFGjgwwR34inC\"><div class=\"AlD19d\"> <span class=\"qXLe6d x3G5ab\"> <span class=\"fYyStc\">GitHub - theone74/tmr</span> </span> <span class=\"qXLe6d F9iS2e\"> <span class=\"fYyStc\">github.com</span> </span> </div></a></td></tr></table></div></div> </div> </div></td><td align=\"center\" class=\"e3goi\"><div class=\"jjVJ4e\"> <div> <div class=\"lIMUZd\"><div><table class=\"RntSmf\"><tr><td><a href=\"/url?q=https://github.com/tmr-kohei&amp;sa=U&amp;ved=2ahUKEwjC-tfZrIqDAxVnTmwGHVPXARgQqoUBegQIAhAB&amp;usg=AOvVaw0YjBp-kCZaMqzBR4EvASze\"><div class=\"kCmkOe\"><img alt=\"\" class=\"DS1iW\" src=\"https://encrypted-tbn0.gstatic.com/images?q=tbn:ANd9GcSLhJVgmMFNbp-01Sy3vRJmKDghiMKBR3Sf7rnC_tOUlco4Jam6dLZjvHFJXA&amp;s\"/></div></a></td></tr><tr><td><a href=\"/url?q=https://github.com/tmr-kohei&amp;sa=U&amp;ved=2ahUKEwjC-tfZrIqDAxVnTmwGHVPXARgQr4kDegQIAhAC&amp;usg=AOvVaw0GKGLi56AjBNTnA8poQSPn\"><div class=\"AlD19d\"> <span class=\"qXLe6d x3G5ab\"> <span class=\"fYyStc\">tmr-kohei · GitHub</span> </span> <span class=\"qXLe6d F9iS2e\"> <span class=\"fYyStc\">github.com</span> </span> </div></a></td></tr></table></div></div> </div> </div></td></tr><tr><td align=\"center\" class=\"e3goi\"><div class=\"jjVJ4e\"> <div> <div class=\"lIMUZd\"><div><table class=\"RntSmf\"><tr><td><a href=\"/url?q=https://github.com/tmrkkk&amp;sa=U&amp;ved=2ahUKEwjC-tfZrIqDAxVnTmwGHVPXARgQqoUBegQIARAB&amp;usg=AOvVaw03mbaz8Qh_g3kU0I4u2tWY\"><div class=\"kCmkOe\"><img alt=\"\" class=\"DS1iW\" src=\"https://encrypted-tbn0.gstatic.com/images?q=tbn:ANd9GcQ2Y_b3Kj3AgLUID7GjajnGslTyucAdymfnAwFb0quDTGkfOwsT7_g0Qd1Nog&amp;s\"/></div></a></td></tr><tr><td><a href=\"/url?q=https://github.com/tmrkkk&amp;sa=U&amp;ved=2ahUKEwjC-tfZrIqDAxVnTmwGHVPXARgQr4kDegQIARAC&amp;usg=AOvVaw1HfiSVPrD6WWzdqvoh8C0O\"><div class=\"AlD19d\"> <span class=\"qXLe6d x3G5ab\"> <span class=\"fYyStc\">tmrkkk (tmr) · GitHub</span> </span> <span class=\"qXLe6d F9iS2e\"> <span class=\"fYyStc\">github.com</span> </span> </div></a></td></tr></table></div></div> </div> </div></td><td align=\"center\" class=\"e3goi\"><div class=\"jjVJ4e\"> <div> <div class=\"lIMUZd\"><div><table class=\"RntSmf\"><tr><td><a href=\"/url?q=https://www.youtube.com/watch%3Fv%3DFK0RukgDEtM&amp;sa=U&amp;ved=2ahUKEwjC-tfZrIqDAxVnTmwGHVPXARgQqoUBegQIBhAB&amp;usg=AOvVaw1lMw_nCPGEdFBN_EmlaEEl\"><div class=\"kCmkOe\"><img alt=\"\" class=\"DS1iW\" src=\"https://encrypted-tbn0.gstatic.com/images?q=tbn:ANd9GcQZ9dmIUyXXB-_5Z0YTimxhyYpLCDo55Hcf63T-aVLwxvG-GopKBbl_7bINtz4&amp;s\"/></div></a></td></tr><tr><td><a href=\"/url?q=https://www.youtube.com/watch%3Fv%3DFK0RukgDEtM&amp;sa=U&amp;ved=2ahUKEwjC-tfZrIqDAxVnTmwGHVPXARgQr4kDegQIBhAC&amp;usg=AOvVaw1hfRR7_XAUGdHOVNVSryQG\"><div class=\"AlD19d\"> <span class=\"qXLe6d x3G5ab\"> <span class=\"fYyStc\">ICCV 2023] TMR:...</span> </span> <span class=\"qXLe6d F9iS2e\"> <span class=\"fYyStc\">www.youtube.com</span> </span> </div></a></td></tr></table></div></div> </div> </div></td><td align=\"center\" class=\"e3goi\"><div class=\"jjVJ4e\"> <div> <div class=\"lIMUZd\"><div><table class=\"RntSmf\"><tr><td><a href=\"/url?q=https://github.com/NveCorporation/AG953-SM225-Smart-TMR-Magnetometer-Evaluation-Kit-/pulls&amp;sa=U&amp;ved=2ahUKEwjC-tfZrIqDAxVnTmwGHVPXARgQqoUBegQIBRAB&amp;usg=AOvVaw1LwrroW7C9AkM4byxl1rIc\"><div class=\"kCmkOe\"><img alt=\"\" class=\"DS1iW\" src=\"https://encrypted-tbn0.gstatic.com/images?q=tbn:ANd9GcSmi-yQxpKM2QiLQ9bMLIGeoCE4724Dk-VPJbIirrHAMM9RBX2bu2LCuQyNaA&amp;s\"/></div></a></td></tr><tr><td><a href=\"/url?q=https://github.com/NveCorporation/AG953-SM225-Smart-TMR-Magnetometer-Evaluation-Kit-/pulls&amp;sa=U&amp;ved=2ahUKEwjC-tfZrIqDAxVnTmwGHVPXARgQr4kDegQIBRAC&amp;usg=AOvVaw3s83LphlaSPpMIAUgOutc7\"><div class=\"AlD19d\"> <span class=\"qXLe6d x3G5ab\"> <span class=\"fYyStc\">Pull requests ·...</span> </span> <span class=\"qXLe6d F9iS2e\"> <span class=\"fYyStc\">github.com</span> </span> </div></a></td></tr></table></div></div> </div> </div></td><td align=\"center\" class=\"e3goi\"><div class=\"jjVJ4e\"> <div> <div class=\"lIMUZd\"><div><table class=\"RntSmf\"><tr><td><a href=\"/url?q=https://m.youtube.com/watch%3Fv%3D4fwHzo3QJGo&amp;sa=U&amp;ved=2ahUKEwjC-tfZrIqDAxVnTmwGHVPXARgQqoUBegQIBBAB&amp;usg=AOvVaw1Lb6kzt5m4IHfkiEejWOsv\"><div class=\"kCmkOe\"><img alt=\"\" class=\"DS1iW\" src=\"https://encrypted-tbn0.gstatic.com/images?q=tbn:ANd9GcRVCpjN_zkkAZ_xa8T8rRYdX1_NidBHIA9ftTgasKBE6u1aqhlWtAusU9eDrQ&amp;s\"/></div></a></td></tr><tr><td><a href=\"/url?q=https://m.youtube.com/watch%3Fv%3D4fwHzo3QJGo&amp;sa=U&amp;ved=2ahUKEwjC-tfZrIqDAxVnTmwGHVPXARgQr4kDegQIBBAC&amp;usg=AOvVaw2l8zICe_pge3kTT1jF7FtY\"><div class=\"AlD19d\"> <span class=\"qXLe6d x3G5ab\"> <span class=\"fYyStc\">TMR processor on the ARTY -...</span> </span> <span class=\"qXLe6d F9iS2e\"> <span class=\"fYyStc\">m.youtube.com</span> </span> </div></a></td></tr></table></div></div> </div> </div></td></tr></table></div><table class=\"uZgmoc\"><tbody><td><a class=\"frGj1b\" href=\"/search?q=TMR+Github&amp;sca_esv=579577228&amp;biw=1920&amp;bih=931&amp;ie=UTF-8&amp;tbm=isch&amp;ei=bI54ZcKUGuecseMP066HwAE&amp;start=20&amp;sa=N\">Next &gt;</a></td></tbody></table><br/><div class=\"TuS8Ad\" data-ved=\"0ahUKEwjC-tfZrIqDAxVnTmwGHVPXARgQpyoIUg\"><style>.VYM29{font-weight:bold}</style><div align=\"center\" class=\"HddGcc\"><span class=\"VYM29\">380051, Ahmedabad, Gujarat</span><span> - </span><span>From your IP address</span><span> - </span><a href=\"/url?q=https://support.google.com/websearch%3Fp%3Dws_settings_location%26hl%3Den-IN&amp;opi=89978449&amp;sa=U&amp;ved=0ahUKEwjC-tfZrIqDAxVnTmwGHVPXARgQty4IUw&amp;usg=AOvVaw04c0fbnpPD4Dstmrkkw0DF\">Learn more</a></div><div align=\"center\"><a class=\"rEM8G\" href=\"/url?q=https://accounts.google.com/ServiceLogin%3Fcontinue%3Dhttps://www.google.com/search%253Fq%253DTMR%252BGithub%2526sca_esv%253D579577228%2526tbm%253Disch%2526sxsrf%253DAM9HkKnS3dXKP4105kw62OpHNbkuOJSp2w:1699176265378%2526source%253Dhp%2526biw%253D1920%2526bih%253D931%2526ei%253DSV9HZYWPEvL21e8Pi8up8Ao%2526iflsig%253DAO6bgOgAAAAAZUdtWYj4-AEUf6rEbyTb_XWT-0ZtHluO%2526ved%253D0ahUKEwjF19DtxKyCAxVye_UHHYtlCq4Q4dUDCAc%2526uact%253D5%2526oq%253Dmit%252Bthakkar%2526gs_lp%253DEgNpbWciC21pdCB0aGFra2FyMgQQIxgnSIwiUJYFWL0hcAJ4AJABAJgBfqABiwqqAQQwLjExuAEDyAEA-AEBigILZ3dzLXdpei1pbWeoAgrCAgcQIxjqAhgnwgILEAAYgAQYsQMYgwHCAggQABiABBixA8ICBRAAGIAEwgIIEAAYsQMYgwHCAgYQABgFGB7CAgYQABgIGB7CAgcQABgYGIAE%2526sclient%253Dimg%26hl%3Den&amp;opi=89978449&amp;sa=U&amp;ved=0ahUKEwjC-tfZrIqDAxVnTmwGHVPXARgQxs8CCFQ&amp;usg=AOvVaw1pWw_2An1PutD5auP7Wg1x\">Sign in</a></div><div><table class=\"bookcf\"><tbody class=\"InWNIe\"><tr><td><a class=\"rEM8G\" href=\"https://www.google.com/preferences?hl=en&amp;sa=X&amp;ved=0ahUKEwjC-tfZrIqDAxVnTmwGHVPXARgQv5YECFU\">Settings</a></td><td><a class=\"rEM8G\" href=\"https://www.google.com/intl/en_in/policies/privacy/\">Privacy</a></td><td><a class=\"rEM8G\" href=\"https://www.google.com/intl/en_in/policies/terms/\">Terms</a></td></tr></tbody></table></div></div><div> </div></body></html>"
      ]
     },
     "execution_count": 15,
     "metadata": {},
     "output_type": "execute_result"
    }
   ],
   "source": [
    "soup"
   ]
  },
  {
   "cell_type": "code",
   "execution_count": 16,
   "id": "1c1ac301",
   "metadata": {},
   "outputs": [],
   "source": [
    "images_tag = soup.find_all('img')"
   ]
  },
  {
   "cell_type": "code",
   "execution_count": 18,
   "id": "53df15b7",
   "metadata": {},
   "outputs": [
    {
     "data": {
      "text/plain": [
       "21"
      ]
     },
     "execution_count": 18,
     "metadata": {},
     "output_type": "execute_result"
    }
   ],
   "source": [
    "len(images_tag)"
   ]
  },
  {
   "cell_type": "code",
   "execution_count": null,
   "id": "8e49c5d9",
   "metadata": {},
   "outputs": [],
   "source": []
  },
  {
   "cell_type": "code",
   "execution_count": null,
   "id": "645371bc",
   "metadata": {},
   "outputs": [],
   "source": [
    "del images_tag[0]"
   ]
  },
  {
   "cell_type": "code",
   "execution_count": 14,
   "id": "5e76172e",
   "metadata": {},
   "outputs": [],
   "source": [
    "for i in images_tag:\n",
    "    images_url = i['src']\n",
    "    image_data = requests.get(images_url).content\n",
    "    with open(os.path.join(save_dir , f\"{query}_{images_tag.index(i)}.jpg\"), \"wb\") as f :\n",
    "        f.write(image_data)\n",
    "    "
   ]
  },
  {
   "cell_type": "code",
   "execution_count": null,
   "id": "413d85a2",
   "metadata": {},
   "outputs": [],
   "source": []
  },
  {
   "cell_type": "code",
   "execution_count": null,
   "id": "acd0714f",
   "metadata": {},
   "outputs": [],
   "source": []
  }
 ],
 "metadata": {
  "kernelspec": {
   "display_name": "Python 3 (ipykernel)",
   "language": "python",
   "name": "python3"
  },
  "language_info": {
   "codemirror_mode": {
    "name": "ipython",
    "version": 3
   },
   "file_extension": ".py",
   "mimetype": "text/x-python",
   "name": "python",
   "nbconvert_exporter": "python",
   "pygments_lexer": "ipython3",
   "version": "3.9.7"
  }
 },
 "nbformat": 4,
 "nbformat_minor": 5
}
